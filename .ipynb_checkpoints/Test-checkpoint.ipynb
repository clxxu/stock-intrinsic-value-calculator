{
 "cells": [
  {
   "cell_type": "code",
   "execution_count": 1,
   "metadata": {},
   "outputs": [],
   "source": [
    "import yfinance as yf\n",
    "from lxml import html\n",
    "import pandas as pd\n",
    "import sys, requests, math\n",
    "import numpy as np"
   ]
  },
  {
   "cell_type": "code",
   "execution_count": 2,
   "metadata": {},
   "outputs": [],
   "source": [
    "benchmark_path = \"/Users/conniexu/Documents/Finances/Stocks/.vscode\" # put your internal-benchmarking file path\n",
    "sys.path.append(benchmark_path)"
   ]
  },
  {
   "cell_type": "code",
   "execution_count": 3,
   "metadata": {},
   "outputs": [],
   "source": [
    "from web_scrape import scrape_three_fs\n",
    "from web_scrape import scrape_analysis"
   ]
  },
  {
   "cell_type": "code",
   "execution_count": 4,
   "metadata": {},
   "outputs": [],
   "source": [
    "symbol = 'MSFT'"
   ]
  },
  {
   "cell_type": "code",
   "execution_count": 5,
   "metadata": {},
   "outputs": [
    {
     "name": "stdout",
     "output_type": "stream",
     "text": [
      "Attempting to scrape data for MSFT\n"
     ]
    }
   ],
   "source": [
    "df = scrape_three_fs(symbol)\n",
    "an = scrape_analysis(symbol)"
   ]
  },
  {
   "cell_type": "code",
   "execution_count": 6,
   "metadata": {},
   "outputs": [],
   "source": [
    "def add_with_dates(name, data, dfresult):\n",
    "    dates = list(df['Date'])\n",
    "    currdate = df.loc[3, 'Date']\n",
    "    curryear = int(currdate[currdate.rindex('/') + 1:])\n",
    "    for i in range(num_predict_years):\n",
    "        curryear += 1\n",
    "        dates.append(currdate[:currdate.rindex('/') + 1:] + str(curryear))\n",
    "    dfresult2 = pd.DataFrame(data, dates)\n",
    "    dfresult2 = dfresult2.transpose()\n",
    "    dfresult2.index = [name]\n",
    "    try:\n",
    "        values = dfresult.loc[name]\n",
    "    except:\n",
    "        dfresult = dfresult.append(dfresult2)\n",
    "    return dfresult\n",
    "\n",
    "def convert(num):\n",
    "    if num[len(num) - 1] == '%':\n",
    "        num = float(num[:len(num) - 1]) / 100\n",
    "    elif num[len(num) - 1] == 'B':\n",
    "        num = round(float(num[:len(num) - 1]) * 10 ** 6)\n",
    "    return num\n",
    "\n",
    "def average(vals):\n",
    "    return sum(vals)/len(vals)\n",
    "\n",
    "def find_rate(data1, data2):\n",
    "    rates = []\n",
    "    for i in range(len(data1)):\n",
    "        rates.append(data1[i] / data2[i])\n",
    "    rate = average(rates)\n",
    "    return rate"
   ]
  },
  {
   "cell_type": "code",
   "execution_count": 7,
   "metadata": {},
   "outputs": [
    {
     "name": "stdout",
     "output_type": "stream",
     "text": [
      "FCF Rate: nan\n"
     ]
    }
   ],
   "source": [
    "fcf_rate = find_rate(df['Free Cash Flow'], df['Net Income Common Stockholders'])\n",
    "print(\"FCF Rate: \" + str(fcf_rate))"
   ]
  },
  {
   "cell_type": "code",
   "execution_count": 8,
   "metadata": {},
   "outputs": [
    {
     "name": "stdout",
     "output_type": "stream",
     "text": [
      "Revenue Growth Rate: nan\n"
     ]
    },
    {
     "data": {
      "text/html": [
       "<div>\n",
       "<style scoped>\n",
       "    .dataframe tbody tr th:only-of-type {\n",
       "        vertical-align: middle;\n",
       "    }\n",
       "\n",
       "    .dataframe tbody tr th {\n",
       "        vertical-align: top;\n",
       "    }\n",
       "\n",
       "    .dataframe thead th {\n",
       "        text-align: right;\n",
       "    }\n",
       "</style>\n",
       "<table border=\"1\" class=\"dataframe\">\n",
       "  <thead>\n",
       "    <tr style=\"text-align: right;\">\n",
       "      <th></th>\n",
       "      <th>ttm</th>\n",
       "      <th>6/30/2017</th>\n",
       "      <th>6/30/2018</th>\n",
       "      <th>6/30/2019</th>\n",
       "      <th>NaN</th>\n",
       "      <th>6/30/2020</th>\n",
       "      <th>6/30/2021</th>\n",
       "      <th>6/30/2022</th>\n",
       "      <th>6/30/2023</th>\n",
       "    </tr>\n",
       "  </thead>\n",
       "  <tbody>\n",
       "    <tr>\n",
       "      <th>Total Revenue</th>\n",
       "      <td>138699000.0</td>\n",
       "      <td>89950000.0</td>\n",
       "      <td>110360000.0</td>\n",
       "      <td>125843000.0</td>\n",
       "      <td>NaN</td>\n",
       "      <td>141480000.0</td>\n",
       "      <td>156630000.0</td>\n",
       "      <td>NaN</td>\n",
       "      <td>NaN</td>\n",
       "    </tr>\n",
       "  </tbody>\n",
       "</table>\n",
       "</div>"
      ],
      "text/plain": [
       "                       ttm   6/30/2017    6/30/2018    6/30/2019  NaN  \\\n",
       "Total Revenue  138699000.0  89950000.0  110360000.0  125843000.0  NaN   \n",
       "\n",
       "                 6/30/2020    6/30/2021  6/30/2022  6/30/2023  \n",
       "Total Revenue  141480000.0  156630000.0        NaN        NaN  "
      ]
     },
     "execution_count": 8,
     "metadata": {},
     "output_type": "execute_result"
    }
   ],
   "source": [
    "num_predict_years = 4\n",
    "revenue_estimates = an['Revenue Estimate'].loc['Avg. Estimate']\n",
    "sales_growth_estimates = an['Revenue Estimate'].loc['Sales Growth (year/est)']\n",
    "\n",
    "# get revenue\n",
    "revenue = list(df['Total Revenue'])\n",
    "\n",
    "# get growth rate\n",
    "rev_growth_rates = []\n",
    "for i in range(len(revenue) - 1):\n",
    "    rev_growth_rates.append((revenue[i + 1] - revenue[i]) / revenue[i])\n",
    "curr_year_growth_rate = convert(sales_growth_estimates.loc[3])\n",
    "next_year_growth_rate = convert(sales_growth_estimates.loc[4])\n",
    "rev_growth_rates.append(curr_year_growth_rate)\n",
    "rev_growth_rates.append(next_year_growth_rate)\n",
    "rev_growth_rate = average([average(rev_growth_rates), average([curr_year_growth_rate, next_year_growth_rate])])\n",
    "\n",
    "# add predicted revenues\n",
    "revenue.append(convert(revenue_estimates.loc[3]))\n",
    "revenue.append(convert(revenue_estimates.loc[4]))\n",
    "yearp_estimate = (1 + rev_growth_rate) * convert(revenue_estimates.loc[4])\n",
    "revenue.append(yearp_estimate)\n",
    "for i in range(num_predict_years - 3):\n",
    "    yearn_estimate = (1 + rev_growth_rate) * yearp_estimate\n",
    "    revenue.append(yearn_estimate)\n",
    "    yearp_estimate = yearn_estimate\n",
    "\n",
    "# add dates\n",
    "print(\"Revenue Growth Rate: \" + str(rev_growth_rate))\n",
    "dfresult = pd.DataFrame()\n",
    "dfresult = add_with_dates('Total Revenue', revenue, dfresult)\n",
    "dfresult"
   ]
  },
  {
   "cell_type": "code",
   "execution_count": 9,
   "metadata": {},
   "outputs": [
    {
     "name": "stdout",
     "output_type": "stream",
     "text": [
      "Net Income Margin: nan\n"
     ]
    },
    {
     "data": {
      "text/html": [
       "<div>\n",
       "<style scoped>\n",
       "    .dataframe tbody tr th:only-of-type {\n",
       "        vertical-align: middle;\n",
       "    }\n",
       "\n",
       "    .dataframe tbody tr th {\n",
       "        vertical-align: top;\n",
       "    }\n",
       "\n",
       "    .dataframe thead th {\n",
       "        text-align: right;\n",
       "    }\n",
       "</style>\n",
       "<table border=\"1\" class=\"dataframe\">\n",
       "  <thead>\n",
       "    <tr style=\"text-align: right;\">\n",
       "      <th></th>\n",
       "      <th>ttm</th>\n",
       "      <th>6/30/2017</th>\n",
       "      <th>6/30/2018</th>\n",
       "      <th>6/30/2019</th>\n",
       "      <th>NaN</th>\n",
       "      <th>6/30/2020</th>\n",
       "      <th>6/30/2021</th>\n",
       "      <th>6/30/2022</th>\n",
       "      <th>6/30/2023</th>\n",
       "    </tr>\n",
       "  </thead>\n",
       "  <tbody>\n",
       "    <tr>\n",
       "      <th>Total Revenue</th>\n",
       "      <td>138699000.0</td>\n",
       "      <td>89950000.0</td>\n",
       "      <td>110360000.0</td>\n",
       "      <td>125843000.0</td>\n",
       "      <td>NaN</td>\n",
       "      <td>141480000.0</td>\n",
       "      <td>156630000.0</td>\n",
       "      <td>NaN</td>\n",
       "      <td>NaN</td>\n",
       "    </tr>\n",
       "    <tr>\n",
       "      <th>Net Income</th>\n",
       "      <td>46266000.0</td>\n",
       "      <td>21204000.0</td>\n",
       "      <td>16571000.0</td>\n",
       "      <td>39240000.0</td>\n",
       "      <td>NaN</td>\n",
       "      <td>NaN</td>\n",
       "      <td>NaN</td>\n",
       "      <td>NaN</td>\n",
       "      <td>NaN</td>\n",
       "    </tr>\n",
       "  </tbody>\n",
       "</table>\n",
       "</div>"
      ],
      "text/plain": [
       "                       ttm   6/30/2017    6/30/2018    6/30/2019  NaN  \\\n",
       "Total Revenue  138699000.0  89950000.0  110360000.0  125843000.0  NaN   \n",
       "Net Income      46266000.0  21204000.0   16571000.0   39240000.0  NaN   \n",
       "\n",
       "                 6/30/2020    6/30/2021  6/30/2022  6/30/2023  \n",
       "Total Revenue  141480000.0  156630000.0        NaN        NaN  \n",
       "Net Income             NaN          NaN        NaN        NaN  "
      ]
     },
     "execution_count": 9,
     "metadata": {},
     "output_type": "execute_result"
    }
   ],
   "source": [
    "# get Net Income Margins\n",
    "net_income = list(df['Net Income Common Stockholders'])\n",
    "net_income_margin = find_rate(net_income, revenue)\n",
    "\n",
    "for i in range(num_predict_years):\n",
    "    net_income.append(revenue[len(revenue) - num_predict_years + i] * net_income_margin)\n",
    "    \n",
    "# output data\n",
    "print(\"Net Income Margin: \" + str(net_income_margin))\n",
    "dfresult = add_with_dates('Net Income', net_income, dfresult)\n",
    "dfresult"
   ]
  },
  {
   "cell_type": "code",
   "execution_count": 10,
   "metadata": {},
   "outputs": [
    {
     "data": {
      "text/html": [
       "<div>\n",
       "<style scoped>\n",
       "    .dataframe tbody tr th:only-of-type {\n",
       "        vertical-align: middle;\n",
       "    }\n",
       "\n",
       "    .dataframe tbody tr th {\n",
       "        vertical-align: top;\n",
       "    }\n",
       "\n",
       "    .dataframe thead th {\n",
       "        text-align: right;\n",
       "    }\n",
       "</style>\n",
       "<table border=\"1\" class=\"dataframe\">\n",
       "  <thead>\n",
       "    <tr style=\"text-align: right;\">\n",
       "      <th></th>\n",
       "      <th>ttm</th>\n",
       "      <th>6/30/2017</th>\n",
       "      <th>6/30/2018</th>\n",
       "      <th>6/30/2019</th>\n",
       "      <th>NaN</th>\n",
       "      <th>6/30/2020</th>\n",
       "      <th>6/30/2021</th>\n",
       "      <th>6/30/2022</th>\n",
       "      <th>6/30/2023</th>\n",
       "    </tr>\n",
       "  </thead>\n",
       "  <tbody>\n",
       "    <tr>\n",
       "      <th>Total Revenue</th>\n",
       "      <td>138699000.0</td>\n",
       "      <td>89950000.0</td>\n",
       "      <td>110360000.0</td>\n",
       "      <td>125843000.0</td>\n",
       "      <td>NaN</td>\n",
       "      <td>141480000.0</td>\n",
       "      <td>156630000.0</td>\n",
       "      <td>NaN</td>\n",
       "      <td>NaN</td>\n",
       "    </tr>\n",
       "    <tr>\n",
       "      <th>Net Income</th>\n",
       "      <td>46266000.0</td>\n",
       "      <td>21204000.0</td>\n",
       "      <td>16571000.0</td>\n",
       "      <td>39240000.0</td>\n",
       "      <td>NaN</td>\n",
       "      <td>NaN</td>\n",
       "      <td>NaN</td>\n",
       "      <td>NaN</td>\n",
       "      <td>NaN</td>\n",
       "    </tr>\n",
       "    <tr>\n",
       "      <th>Free Cash Flow</th>\n",
       "      <td>43362000.0</td>\n",
       "      <td>31378000.0</td>\n",
       "      <td>32252000.0</td>\n",
       "      <td>38260000.0</td>\n",
       "      <td>NaN</td>\n",
       "      <td>NaN</td>\n",
       "      <td>NaN</td>\n",
       "      <td>NaN</td>\n",
       "      <td>NaN</td>\n",
       "    </tr>\n",
       "  </tbody>\n",
       "</table>\n",
       "</div>"
      ],
      "text/plain": [
       "                        ttm   6/30/2017    6/30/2018    6/30/2019  NaN  \\\n",
       "Total Revenue   138699000.0  89950000.0  110360000.0  125843000.0  NaN   \n",
       "Net Income       46266000.0  21204000.0   16571000.0   39240000.0  NaN   \n",
       "Free Cash Flow   43362000.0  31378000.0   32252000.0   38260000.0  NaN   \n",
       "\n",
       "                  6/30/2020    6/30/2021  6/30/2022  6/30/2023  \n",
       "Total Revenue   141480000.0  156630000.0        NaN        NaN  \n",
       "Net Income              NaN          NaN        NaN        NaN  \n",
       "Free Cash Flow          NaN          NaN        NaN        NaN  "
      ]
     },
     "execution_count": 10,
     "metadata": {},
     "output_type": "execute_result"
    }
   ],
   "source": [
    "# get Free Cash Flow projections\n",
    "fcf = list(df['Free Cash Flow'])\n",
    "for i in range(num_predict_years):\n",
    "    fcf.append(net_income[len(net_income) - num_predict_years + i] * fcf_rate)\n",
    "\n",
    "dfresult = add_with_dates('Free Cash Flow', fcf, dfresult)\n",
    "dfresult"
   ]
  },
  {
   "cell_type": "code",
   "execution_count": 11,
   "metadata": {},
   "outputs": [],
   "source": [
    "interest_rate = df.loc[4, 'Interest Expense'] / df.loc[3, 'Total Debt']\n",
    "effective_tax_rate = df.loc[4, 'Tax Provision'] / df.loc[4, 'Pretax Income']\n",
    "cost_of_debt = interest_rate * (1 - effective_tax_rate)"
   ]
  },
  {
   "cell_type": "code",
   "execution_count": 12,
   "metadata": {},
   "outputs": [],
   "source": [
    "tyx_page = requests.get('https://finance.yahoo.com/quote/%5ETYX?p=%5ETYX')\n",
    "tree = html.fromstring(tyx_page.content)\n",
    "tyx = float(tree.xpath(\"//div[contains(@class, 'smartphone_Mt(6px)')]\")[0].xpath('./div/span/text()[1]')[0])/100\n",
    "regi = yf.Ticker('REGI')\n",
    "beta = regi.info['beta']\n",
    "CAPM = tyx + beta * (0.1 - tyx)"
   ]
  },
  {
   "cell_type": "code",
   "execution_count": 13,
   "metadata": {},
   "outputs": [
    {
     "name": "stdout",
     "output_type": "stream",
     "text": [
      "WACC: nan\n"
     ]
    }
   ],
   "source": [
    "enterprise_value = df.loc[3, 'Total Debt'] + (regi.info['marketCap'] / 1000)\n",
    "debt_weight = df.loc[3, 'Total Debt'] / enterprise_value\n",
    "WACC = debt_weight * cost_of_debt + CAPM * (1 - debt_weight)\n",
    "print('WACC: ' + str(WACC))"
   ]
  },
  {
   "cell_type": "code",
   "execution_count": 14,
   "metadata": {},
   "outputs": [
    {
     "data": {
      "text/html": [
       "<div>\n",
       "<style scoped>\n",
       "    .dataframe tbody tr th:only-of-type {\n",
       "        vertical-align: middle;\n",
       "    }\n",
       "\n",
       "    .dataframe tbody tr th {\n",
       "        vertical-align: top;\n",
       "    }\n",
       "\n",
       "    .dataframe thead th {\n",
       "        text-align: right;\n",
       "    }\n",
       "</style>\n",
       "<table border=\"1\" class=\"dataframe\">\n",
       "  <thead>\n",
       "    <tr style=\"text-align: right;\">\n",
       "      <th></th>\n",
       "      <th>ttm</th>\n",
       "      <th>6/30/2017</th>\n",
       "      <th>6/30/2018</th>\n",
       "      <th>6/30/2019</th>\n",
       "      <th>NaN</th>\n",
       "      <th>6/30/2020</th>\n",
       "      <th>6/30/2021</th>\n",
       "      <th>6/30/2022</th>\n",
       "      <th>6/30/2023</th>\n",
       "    </tr>\n",
       "  </thead>\n",
       "  <tbody>\n",
       "    <tr>\n",
       "      <th>Total Revenue</th>\n",
       "      <td>138699000.0</td>\n",
       "      <td>89950000.0</td>\n",
       "      <td>110360000.0</td>\n",
       "      <td>125843000.0</td>\n",
       "      <td>NaN</td>\n",
       "      <td>141480000.0</td>\n",
       "      <td>156630000.0</td>\n",
       "      <td>NaN</td>\n",
       "      <td>NaN</td>\n",
       "    </tr>\n",
       "    <tr>\n",
       "      <th>Net Income</th>\n",
       "      <td>46266000.0</td>\n",
       "      <td>21204000.0</td>\n",
       "      <td>16571000.0</td>\n",
       "      <td>39240000.0</td>\n",
       "      <td>NaN</td>\n",
       "      <td>NaN</td>\n",
       "      <td>NaN</td>\n",
       "      <td>NaN</td>\n",
       "      <td>NaN</td>\n",
       "    </tr>\n",
       "    <tr>\n",
       "      <th>Free Cash Flow</th>\n",
       "      <td>43362000.0</td>\n",
       "      <td>31378000.0</td>\n",
       "      <td>32252000.0</td>\n",
       "      <td>38260000.0</td>\n",
       "      <td>NaN</td>\n",
       "      <td>NaN</td>\n",
       "      <td>NaN</td>\n",
       "      <td>NaN</td>\n",
       "      <td>NaN</td>\n",
       "    </tr>\n",
       "    <tr>\n",
       "      <th>Present Value of Future Cash Flow</th>\n",
       "      <td>NaN</td>\n",
       "      <td>NaN</td>\n",
       "      <td>NaN</td>\n",
       "      <td>NaN</td>\n",
       "      <td>NaN</td>\n",
       "      <td>NaN</td>\n",
       "      <td>NaN</td>\n",
       "      <td>NaN</td>\n",
       "      <td>NaN</td>\n",
       "    </tr>\n",
       "  </tbody>\n",
       "</table>\n",
       "</div>"
      ],
      "text/plain": [
       "                                           ttm   6/30/2017    6/30/2018  \\\n",
       "Total Revenue                      138699000.0  89950000.0  110360000.0   \n",
       "Net Income                          46266000.0  21204000.0   16571000.0   \n",
       "Free Cash Flow                      43362000.0  31378000.0   32252000.0   \n",
       "Present Value of Future Cash Flow          NaN         NaN          NaN   \n",
       "\n",
       "                                     6/30/2019  NaN    6/30/2020    6/30/2021  \\\n",
       "Total Revenue                      125843000.0  NaN  141480000.0  156630000.0   \n",
       "Net Income                          39240000.0  NaN          NaN          NaN   \n",
       "Free Cash Flow                      38260000.0  NaN          NaN          NaN   \n",
       "Present Value of Future Cash Flow          NaN  NaN          NaN          NaN   \n",
       "\n",
       "                                   6/30/2022  6/30/2023  \n",
       "Total Revenue                            NaN        NaN  \n",
       "Net Income                               NaN        NaN  \n",
       "Free Cash Flow                           NaN        NaN  \n",
       "Present Value of Future Cash Flow        NaN        NaN  "
      ]
     },
     "execution_count": 14,
     "metadata": {},
     "output_type": "execute_result"
    }
   ],
   "source": [
    "discount_factor = 1 + WACC\n",
    "present_value = [np.nan] * (len(dfresult.columns) - num_predict_years)\n",
    "sum_pv = 0\n",
    "for i in range(1, num_predict_years + 1):\n",
    "    pv = fcf[len(fcf) - num_predict_years + i - 1] / (discount_factor ** i)\n",
    "    sum_pv += pv\n",
    "    present_value.append(pv)\n",
    "dfresult = add_with_dates('Present Value of Future Cash Flow', present_value, dfresult)\n",
    "dfresult"
   ]
  },
  {
   "cell_type": "code",
   "execution_count": 15,
   "metadata": {},
   "outputs": [
    {
     "data": {
      "text/html": [
       "<div>\n",
       "<style scoped>\n",
       "    .dataframe tbody tr th:only-of-type {\n",
       "        vertical-align: middle;\n",
       "    }\n",
       "\n",
       "    .dataframe tbody tr th {\n",
       "        vertical-align: top;\n",
       "    }\n",
       "\n",
       "    .dataframe thead th {\n",
       "        text-align: right;\n",
       "    }\n",
       "</style>\n",
       "<table border=\"1\" class=\"dataframe\">\n",
       "  <thead>\n",
       "    <tr style=\"text-align: right;\">\n",
       "      <th></th>\n",
       "      <th>ttm</th>\n",
       "      <th>6/30/2017</th>\n",
       "      <th>6/30/2018</th>\n",
       "      <th>6/30/2019</th>\n",
       "      <th>NaN</th>\n",
       "      <th>6/30/2020</th>\n",
       "      <th>6/30/2021</th>\n",
       "      <th>6/30/2022</th>\n",
       "      <th>6/30/2023</th>\n",
       "      <th>Terminal Value</th>\n",
       "    </tr>\n",
       "  </thead>\n",
       "  <tbody>\n",
       "    <tr>\n",
       "      <th>Total Revenue</th>\n",
       "      <td>138699000.0</td>\n",
       "      <td>89950000.0</td>\n",
       "      <td>110360000.0</td>\n",
       "      <td>125843000.0</td>\n",
       "      <td>NaN</td>\n",
       "      <td>141480000.0</td>\n",
       "      <td>156630000.0</td>\n",
       "      <td>NaN</td>\n",
       "      <td>NaN</td>\n",
       "      <td>NaN</td>\n",
       "    </tr>\n",
       "    <tr>\n",
       "      <th>Net Income</th>\n",
       "      <td>46266000.0</td>\n",
       "      <td>21204000.0</td>\n",
       "      <td>16571000.0</td>\n",
       "      <td>39240000.0</td>\n",
       "      <td>NaN</td>\n",
       "      <td>NaN</td>\n",
       "      <td>NaN</td>\n",
       "      <td>NaN</td>\n",
       "      <td>NaN</td>\n",
       "      <td>NaN</td>\n",
       "    </tr>\n",
       "    <tr>\n",
       "      <th>Free Cash Flow</th>\n",
       "      <td>43362000.0</td>\n",
       "      <td>31378000.0</td>\n",
       "      <td>32252000.0</td>\n",
       "      <td>38260000.0</td>\n",
       "      <td>NaN</td>\n",
       "      <td>NaN</td>\n",
       "      <td>NaN</td>\n",
       "      <td>NaN</td>\n",
       "      <td>NaN</td>\n",
       "      <td>NaN</td>\n",
       "    </tr>\n",
       "    <tr>\n",
       "      <th>Present Value of Future Cash Flow</th>\n",
       "      <td>NaN</td>\n",
       "      <td>NaN</td>\n",
       "      <td>NaN</td>\n",
       "      <td>NaN</td>\n",
       "      <td>NaN</td>\n",
       "      <td>NaN</td>\n",
       "      <td>NaN</td>\n",
       "      <td>NaN</td>\n",
       "      <td>NaN</td>\n",
       "      <td>NaN</td>\n",
       "    </tr>\n",
       "  </tbody>\n",
       "</table>\n",
       "</div>"
      ],
      "text/plain": [
       "                                           ttm   6/30/2017    6/30/2018  \\\n",
       "Total Revenue                      138699000.0  89950000.0  110360000.0   \n",
       "Net Income                          46266000.0  21204000.0   16571000.0   \n",
       "Free Cash Flow                      43362000.0  31378000.0   32252000.0   \n",
       "Present Value of Future Cash Flow          NaN         NaN          NaN   \n",
       "\n",
       "                                     6/30/2019  NaN    6/30/2020    6/30/2021  \\\n",
       "Total Revenue                      125843000.0  NaN  141480000.0  156630000.0   \n",
       "Net Income                          39240000.0  NaN          NaN          NaN   \n",
       "Free Cash Flow                      38260000.0  NaN          NaN          NaN   \n",
       "Present Value of Future Cash Flow          NaN  NaN          NaN          NaN   \n",
       "\n",
       "                                   6/30/2022  6/30/2023  Terminal Value  \n",
       "Total Revenue                            NaN        NaN             NaN  \n",
       "Net Income                               NaN        NaN             NaN  \n",
       "Free Cash Flow                           NaN        NaN             NaN  \n",
       "Present Value of Future Cash Flow        NaN        NaN             NaN  "
      ]
     },
     "execution_count": 15,
     "metadata": {},
     "output_type": "execute_result"
    }
   ],
   "source": [
    "perpetual_growth_rate = 0.025\n",
    "latest_fcf = fcf[len(fcf) - 1] * (1 + perpetual_growth_rate)\n",
    "terminal_value = latest_fcf / (WACC - perpetual_growth_rate)\n",
    "discounted_terminal_value = terminal_value / (discount_factor ** num_predict_years)\n",
    "sum_pv += discounted_terminal_value\n",
    "tv_data = pd.DataFrame(data={'Terminal Value': [terminal_value, discounted_terminal_value]}, index=['Free Cash Flow', 'Present Value of Future Cash Flow'])\n",
    "pd.concat([dfresult, tv_data], axis=1)"
   ]
  },
  {
   "cell_type": "code",
   "execution_count": 19,
   "metadata": {},
   "outputs": [
    {
     "data": {
      "text/plain": [
       "nan"
      ]
     },
     "execution_count": 19,
     "metadata": {},
     "output_type": "execute_result"
    }
   ],
   "source": [
    "shares_outstanding = (regi.info['sharesOutstanding'] / 1000)\n",
    "intrinsic_value = sum_pv/shares_outstanding"
   ]
  },
  {
   "cell_type": "code",
   "execution_count": 17,
   "metadata": {},
   "outputs": [],
   "source": [
    "page = requests.get('https://finance.yahoo.com/quote/' + symbol + '?p=' + symbol + '&.tsrc=fin-srch')\n",
    "tree = html.fromstring(page.content)\n",
    "actual_price = float(tree.xpath(\"//div[contains(@class, 'smartphone_Mt(6px)')]\")[0].xpath('./div/span/text()[1]')[0])"
   ]
  },
  {
   "cell_type": "code",
   "execution_count": 18,
   "metadata": {},
   "outputs": [
    {
     "data": {
      "text/plain": [
       "nan"
      ]
     },
     "execution_count": 18,
     "metadata": {},
     "output_type": "execute_result"
    }
   ],
   "source": [
    "margin_of_safety = (intrinsic_value - actual_price)/actual_price\n",
    "margin_of_safety"
   ]
  },
  {
   "cell_type": "code",
   "execution_count": null,
   "metadata": {},
   "outputs": [],
   "source": []
  }
 ],
 "metadata": {
  "kernelspec": {
   "display_name": "stocks-env",
   "language": "python",
   "name": "stocks-env"
  },
  "language_info": {
   "codemirror_mode": {
    "name": "ipython",
    "version": 3
   },
   "file_extension": ".py",
   "mimetype": "text/x-python",
   "name": "python",
   "nbconvert_exporter": "python",
   "pygments_lexer": "ipython3",
   "version": "3.8.3"
  }
 },
 "nbformat": 4,
 "nbformat_minor": 4
}
